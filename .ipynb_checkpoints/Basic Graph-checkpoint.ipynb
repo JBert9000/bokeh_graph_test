{
 "cells": [
  {
   "cell_type": "code",
   "execution_count": 2,
   "metadata": {
    "collapsed": true
   },
   "outputs": [],
   "source": [
    "# Making a basic Bokeh line graph\n",
    "\n",
    "# Importing Bokeh\n",
    "from bokeh.plotting import figure\n",
    "from bokeh.io import output_file, show\n",
    "\n",
    "# Prepare some data\n",
    "x=[3,7.5,10]\n",
    "y=[3,6,9]\n",
    "\n",
    "# Create and prepare the output file\n",
    "output_file(\"Triangle.html\")\n",
    "\n",
    "# Create figure object\n",
    "f=figure()\n",
    "\n",
    "# Create line plot using the 'line' method\n",
    "f.triangle(x,y)\n",
    "\n",
    "# Show graph using the 'show' method\n",
    "show(f)\n",
    "\n",
    "\n"
   ]
  },
  {
   "cell_type": "code",
   "execution_count": 1,
   "metadata": {
    "collapsed": true
   },
   "outputs": [],
   "source": [
    "# Making a basic Bokeh line graph\n",
    "\n",
    "# Importing Bokeh and Pandas\n",
    "from bokeh.plotting import figure\n",
    "from bokeh.io import output_file, show\n",
    "import pandas\n",
    "\n",
    "# Prepare some data\n",
    "df=pandas.read_csv(\"data.csv\")\n",
    "x=df[\"x\"]\n",
    "y=df[\"y\"]\n",
    "\n",
    "# Create and prepare the output file\n",
    "output_file(\"from_csv.html\")\n",
    "\n",
    "# Create figure object\n",
    "f=figure()\n",
    "\n",
    "# Create line plot using the 'line' method\n",
    "f.line(x,y)\n",
    "\n",
    "# Show graph using the 'show' method\n",
    "show(f)\n",
    "\n",
    "\n"
   ]
  }
 ],
 "metadata": {
  "kernelspec": {
   "display_name": "Python 3",
   "language": "python",
   "name": "python3"
  },
  "language_info": {
   "codemirror_mode": {
    "name": "ipython",
    "version": 3
   },
   "file_extension": ".py",
   "mimetype": "text/x-python",
   "name": "python",
   "nbconvert_exporter": "python",
   "pygments_lexer": "ipython3",
   "version": "3.6.3"
  }
 },
 "nbformat": 4,
 "nbformat_minor": 2
}
